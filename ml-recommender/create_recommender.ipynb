{
 "cells": [
  {
   "cell_type": "code",
   "execution_count": null,
   "metadata": {
    "collapsed": false
   },
   "outputs": [],
   "source": [
    "from os import path\n",
    "import graphlab as gl\n",
    "\n",
    "data_dir = './dataset'\n",
    "\n",
    "actions = gl.SFrame.read_csv(path.join(data_dir, 'rec_observation.csv'))\n",
    "tracks = gl.SFrame.read_csv(path.join(data_dir, 'rec_tracks.csv'))\n",
    "track_features = gl.SFrame.read_csv(path.join(data_dir, 'rec_tracks_features.csv'))\n",
    "tracks = tracks.join(track_features, on='trackID')\n",
    "training_data, validation_data = gl.recommender.util.random_split_by_user(actions, user_id='userID', item_id='trackID')\n",
    "\n",
    "model = gl.recommender.ranking_factorization_recommender.create(training_data, user_id='userID', item_id='trackID', target='liked', item_data=tracks, binary_target=True)\n",
    "eval = model.evaluate(validation_data)\n",
    "print eval\n",
    "model.save('recommender_model')\n",
    "\n",
    "view = model.views.evaluate(validation_data)\n",
    "view.show()"
   ]
  },
  {
   "cell_type": "code",
   "execution_count": null,
   "metadata": {
    "collapsed": true
   },
   "outputs": [],
   "source": []
  }
 ],
 "metadata": {
  "kernelspec": {
   "display_name": "Python 2",
   "language": "python",
   "name": "python2"
  },
  "language_info": {
   "codemirror_mode": {
    "name": "ipython",
    "version": 2
   },
   "file_extension": ".py",
   "mimetype": "text/x-python",
   "name": "python",
   "nbconvert_exporter": "python",
   "pygments_lexer": "ipython2",
   "version": "2.7.11"
  }
 },
 "nbformat": 4,
 "nbformat_minor": 0
}
